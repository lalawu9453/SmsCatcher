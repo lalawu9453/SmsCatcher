{
  "cells": [
    {
      "cell_type": "markdown",
      "metadata": {
        "colab_type": "text",
        "id": "view-in-github"
      },
      "source": [
        "<a href=\"https://colab.research.google.com/github/LayorX/Temporary-SMS-Receiver-Monitor/blob/master/Temporary_SMS_Receiver_Monitor.ipynb\" target=\"_parent\"><img src=\"https://colab.research.google.com/assets/colab-badge.svg\" alt=\"Open In Colab\"/></a>"
      ]
    },
    {
      "cell_type": "markdown",
      "metadata": {
        "id": "793c473f"
      },
      "source": [
        "# Temporary-SMS-Receiver-Monitor 專案設置指南 (Project Setup Guide)\n",
        "\n",
        "此 Google Colab Notebook 旨在提供一個標準化的流程，用於部署一個臨時簡訊接收監控應用程式。本專案利用 `ngrok` 技術建立安全的公共通道，以實現遠端存取應用程式介面。\n",
        "\n",
        "This notebook will guide you through the process of setting up [Temporary-SMS-Receiver-Monitor](https://github.com/LayorX/Temporary-SMS-Receiver-Monitor).\n",
        "\n",
        "This Google Colab Notebook provides a standardized procedure for deploying a temporary SMS receiver and monitoring application. The project utilizes `ngrok` to establish a secure public tunnel, enabling remote access to the application interface."
      ]
    },
    {
      "cell_type": "markdown",
      "metadata": {
        "id": "87049ed7"
      },
      "source": [
        "## ngrok 身份驗證 (Authentication)\n",
        "\n",
        "請在 Google Colab 的 **Secrets Manager** 中，配置您的 `ngrok` NGROK_AUTH_TOKEN: [ngrok dashboard](https://dashboard.ngrok.com/get-started/your-authtoken)身份驗證令牌（Authtoken）。此為建立安全隧道之必要條件。\n",
        "\n",
        "Please configure your `ngrok` authentication token (Authtoken) in Google Colab's **Secrets Manager**. This is a prerequisite for establishing a secure tunnel.\n",
        "\n",
        "**Important**: You need to get your authentication token from the [ngrok dashboard](https://dashboard.ngrok.com/get-started/your-authtoken) into NGROK_AUTH_TOKEN to use this service."
      ]
    },
    {
      "cell_type": "code",
      "execution_count": 3,
      "metadata": {
        "id": "DNjcmFxDALO4"
      },
      "outputs": [],
      "source": [
        "# 最安全方法還是在Secrets Manager 中，配置您的 ngrok NGROK_AUTH_TOKEN\n",
        "NGROK_AUTH_TOKEN = \"\" # @param {\"type\":\"string\",\"placeholder\":\"NGROK_AUTH_TOKEN\"}"
      ]
    },
    {
      "cell_type": "markdown",
      "metadata": {
        "id": "bxT8eyVwYePd"
      },
      "source": [
        "### 專案初始化與相依性管理 (Project Initialization and Dependency Management)\n",
        "\n",
        "首先，執行以下指令以複製 GitHub 儲存庫並配置專案目錄結構，隨後進行所有必要套件的安裝。\n",
        "\n",
        "First, execute the following commands to clone the GitHub repository and configure the project directory structure, followed by the installation of all necessary packages."
      ]
    },
    {
      "cell_type": "code",
      "execution_count": null,
      "metadata": {
        "id": "3SxMpcdjYePe"
      },
      "outputs": [],
      "source": [
        "!git clone https://github.com/LayorX/Temporary-SMS-Receiver-Monitor.git"
      ]
    },
    {
      "cell_type": "markdown",
      "metadata": {
        "id": "3IJ3cgx8eJUg"
      },
      "source": [
        "### Google Chrome 環境建置 (可選) (Google Chrome Environment Setup - Optional)\n",
        "\n",
        "若執行環境未預裝 Google Chrome，請執行此區塊以完成瀏覽器安裝。此步驟對於依賴無頭瀏覽器功能的應用程式至關重要。\n",
        "\n",
        "If the execution environment does not have Google Chrome pre-installed, run this section to complete the browser installation. This step is crucial for applications that rely on headless browser functionality."
      ]
    },
    {
      "cell_type": "code",
      "execution_count": null,
      "metadata": {
        "id": "SkM-xrImHwWx"
      },
      "outputs": [],
      "source": [
        "%cd Temporary-SMS-Receiver-Monitor\n",
        "# 更新套件列表 / Update package list\n",
        "!apt-get update\n",
        "\n",
        "# 下載 Google Chrome 穩定版安裝檔 / Download the stable version of the Google Chrome installer\n",
        "!wget https://dl.google.com/linux/direct/google-chrome-stable_current_amd64.deb\n",
        "\n",
        "# 安裝 .deb 檔案，並修復相依性問題 / Install the .deb file and fix dependency issues\n",
        "!apt install --fix-broken -y ./google-chrome-stable_current_amd64.deb"
      ]
    },
    {
      "cell_type": "markdown",
      "metadata": {
        "id": "0xlCBNzPejrC"
      },
      "source": [
        "### 應用程式啟動與遠端連線 (Application Startup and Remote Connection)\n",
        "\n",
        "完成環境配置後，執行以下指令以啟動 Python 應用程式。系統將透過預先配置的 `ngrok` 令牌建立安全的遠端連線。\n",
        "\n",
        "After configuring the environment, execute the following commands to start the Python application. The system will establish a secure remote connection using the pre-configured `ngrok` token."
      ]
    },
    {
      "cell_type": "code",
      "execution_count": null,
      "metadata": {
        "id": "sz5x02twd9SI"
      },
      "outputs": [],
      "source": [
        "%cd /content/Temporary-SMS-Receiver-Monitor\n",
        "from google.colab import userdata\n",
        "from google.colab.userdata import NotebookAccessError,SecretNotFoundError\n",
        "\n",
        "try:\n",
        "  print(\"【NGROK_AUTH_TOKEN】: Secrets Manager\")\n",
        "  ng_token = userdata.get(\"NGROK_AUTH_TOKEN\")\n",
        "except (NotebookAccessError, SecretNotFoundError):\n",
        "  print(\"【NGROK_AUTH_TOKEN】: Google Colab Code Block\")\n",
        "  ng_token = NGROK_AUTH_TOKEN\n",
        "\n",
        "!uv sync\n",
        "!uv run python main.py --ngrok_token $ng_token --web top2"
      ]
    }
  ],
  "metadata": {
    "colab": {
      "include_colab_link": true,
      "provenance": []
    },
    "kernelspec": {
      "display_name": "Python 3",
      "name": "python3"
    },
    "language_info": {
      "name": "python"
    }
  },
  "nbformat": 4,
  "nbformat_minor": 0
}
